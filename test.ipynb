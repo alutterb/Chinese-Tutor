{
 "cells": [
  {
   "cell_type": "code",
   "execution_count": 1,
   "metadata": {},
   "outputs": [],
   "source": [
    "import pickle"
   ]
  },
  {
   "cell_type": "code",
   "execution_count": 2,
   "metadata": {},
   "outputs": [],
   "source": [
    "# load pickle file\n",
    "with open('Data/Textbook.pkl', 'rb') as handle:\n",
    "    lesson_text_dict = pickle.load(handle)"
   ]
  },
  {
   "cell_type": "code",
   "execution_count": 3,
   "metadata": {},
   "outputs": [
    {
     "data": {
      "text/plain": [
       "\"1. 當代中文課程\\n3. In interrogatives, 都 dōu works with the 嗎 ma question form but not with A-not-A question forms. For example, to say 'Are you all surnamed Wang?', one can say 你們都姓王嗎? Nǐmen dōu xìng Wáng ma? but not *你們都姓不姓王? Nǐmen dōu xìng bù xìng Wáng?\\n4. When 都 dōu is modified by 不 bù, the sentence means 'not all…', e.g., 他們不都是台灣人。Tāmen bù dōu shì Táiwān rén. 'Not all of them are Taiwanese.'\""
      ]
     },
     "execution_count": 3,
     "metadata": {},
     "output_type": "execute_result"
    }
   ],
   "source": [
    "lesson_text_dict['TEXT'][60]"
   ]
  },
  {
   "cell_type": "code",
   "execution_count": 4,
   "metadata": {},
   "outputs": [
    {
     "data": {
      "text/plain": [
       "'Lesson 3 - What Are You Doing Over the Weekend'"
      ]
     },
     "execution_count": 4,
     "metadata": {},
     "output_type": "execute_result"
    }
   ],
   "source": [
    "lesson_text_dict['LESSON'][60]"
   ]
  },
  {
   "cell_type": "code",
   "execution_count": null,
   "metadata": {},
   "outputs": [],
   "source": []
  }
 ],
 "metadata": {
  "kernelspec": {
   "display_name": ".venv",
   "language": "python",
   "name": "python3"
  },
  "language_info": {
   "codemirror_mode": {
    "name": "ipython",
    "version": 3
   },
   "file_extension": ".py",
   "mimetype": "text/x-python",
   "name": "python",
   "nbconvert_exporter": "python",
   "pygments_lexer": "ipython3",
   "version": "3.10.6"
  },
  "orig_nbformat": 4
 },
 "nbformat": 4,
 "nbformat_minor": 2
}
